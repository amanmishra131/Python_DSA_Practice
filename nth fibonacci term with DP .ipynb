{
 "cells": [
  {
   "cell_type": "code",
   "execution_count": null,
   "id": "8ec2265c",
   "metadata": {},
   "outputs": [],
   "source": [
    "def fibb(n, dp):\n",
    "    if n == 0 or n == 1 :\n",
    "        return n \n",
    "    if dp[n-1] == -1 :\n",
    "        ans1 = fibb(n-1, dp)\n",
    "        dp[n-1] = ans1\n",
    "    else:\n",
    "        ans1 = dp[n-1]\n",
    "    if dp[n-2] == -1:\n",
    "        ans2 = fibb(n-2, dp)\n",
    "        dp[n-2] = ans2\n",
    "    else:\n",
    "        ans2 = dp[n-2]\n",
    "    dp[n] = ans1 + ans2 \n",
    "    return dp[n]\n",
    "    \n",
    "def fibbIter(n):\n",
    "    dp = [0 for i in range(n+1)]\n",
    "    dp[0] = 0\n",
    "    dp[1] = 1 \n",
    "    i = 2 \n",
    "    while i <= n:\n",
    "        dp[i] = dp[i-1] + dp[i-2]\n",
    "        i += 1\n",
    "    return dp[n]\n",
    "\n",
    "n = int(input()) \n",
    "ans1 = fibbIter(n) #this is my iterative function \n",
    "\n",
    "dp = [-1 for i in range(n+1)]\n",
    "ans2 = fibb(n, dp) #this is my recursive function \n",
    "\n",
    "print(\" through Recursive:\", ans1, \"\\n through iterative:\", ans2 )\n"
   ]
  }
 ],
 "metadata": {
  "kernelspec": {
   "display_name": "Python 3 (ipykernel)",
   "language": "python",
   "name": "python3"
  },
  "language_info": {
   "codemirror_mode": {
    "name": "ipython",
    "version": 3
   },
   "file_extension": ".py",
   "mimetype": "text/x-python",
   "name": "python",
   "nbconvert_exporter": "python",
   "pygments_lexer": "ipython3",
   "version": "3.9.12"
  }
 },
 "nbformat": 4,
 "nbformat_minor": 5
}
